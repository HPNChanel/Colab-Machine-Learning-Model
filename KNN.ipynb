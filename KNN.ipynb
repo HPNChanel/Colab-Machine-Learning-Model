{
  "nbformat": 4,
  "nbformat_minor": 0,
  "metadata": {
    "colab": {
      "provenance": [],
      "authorship_tag": "ABX9TyNc6y/RN2gdomuCuz4haArl",
      "include_colab_link": true
    },
    "kernelspec": {
      "name": "python3",
      "display_name": "Python 3"
    },
    "language_info": {
      "name": "python"
    }
  },
  "cells": [
    {
      "cell_type": "markdown",
      "metadata": {
        "id": "view-in-github",
        "colab_type": "text"
      },
      "source": [
        "<a href=\"https://colab.research.google.com/github/HPNChanel/Colab-Machine-Learning-Model/blob/main/KNN.ipynb\" target=\"_parent\"><img src=\"https://colab.research.google.com/assets/colab-badge.svg\" alt=\"Open In Colab\"/></a>"
      ]
    },
    {
      "cell_type": "markdown",
      "source": [
        "Sử dụng Iris Dataset - một bộ dữ liệu phổ biến trong học máy sử dụng KNN (K-Nearest Neighbors)"
      ],
      "metadata": {
        "id": "UnKigMrwh__p"
      }
    },
    {
      "cell_type": "markdown",
      "source": [
        "**1. Chuẩn bị môi trường**"
      ],
      "metadata": {
        "id": "m2jpgBRMiS7Y"
      }
    },
    {
      "cell_type": "code",
      "source": [
        "!pip install numpy pandas matplotlib scikit-learn"
      ],
      "metadata": {
        "colab": {
          "base_uri": "https://localhost:8080/"
        },
        "id": "kZNPDLGGi6rB",
        "outputId": "308dd6ea-8796-404a-8e14-6a8aeeef4ab9"
      },
      "execution_count": null,
      "outputs": [
        {
          "output_type": "stream",
          "name": "stdout",
          "text": [
            "Requirement already satisfied: numpy in /usr/local/lib/python3.10/dist-packages (1.26.4)\n",
            "Requirement already satisfied: pandas in /usr/local/lib/python3.10/dist-packages (2.2.2)\n",
            "Requirement already satisfied: matplotlib in /usr/local/lib/python3.10/dist-packages (3.8.0)\n",
            "Requirement already satisfied: scikit-learn in /usr/local/lib/python3.10/dist-packages (1.6.0)\n",
            "Requirement already satisfied: python-dateutil>=2.8.2 in /usr/local/lib/python3.10/dist-packages (from pandas) (2.8.2)\n",
            "Requirement already satisfied: pytz>=2020.1 in /usr/local/lib/python3.10/dist-packages (from pandas) (2024.2)\n",
            "Requirement already satisfied: tzdata>=2022.7 in /usr/local/lib/python3.10/dist-packages (from pandas) (2024.2)\n",
            "Requirement already satisfied: contourpy>=1.0.1 in /usr/local/lib/python3.10/dist-packages (from matplotlib) (1.3.1)\n",
            "Requirement already satisfied: cycler>=0.10 in /usr/local/lib/python3.10/dist-packages (from matplotlib) (0.12.1)\n",
            "Requirement already satisfied: fonttools>=4.22.0 in /usr/local/lib/python3.10/dist-packages (from matplotlib) (4.55.3)\n",
            "Requirement already satisfied: kiwisolver>=1.0.1 in /usr/local/lib/python3.10/dist-packages (from matplotlib) (1.4.7)\n",
            "Requirement already satisfied: packaging>=20.0 in /usr/local/lib/python3.10/dist-packages (from matplotlib) (24.2)\n",
            "Requirement already satisfied: pillow>=6.2.0 in /usr/local/lib/python3.10/dist-packages (from matplotlib) (11.0.0)\n",
            "Requirement already satisfied: pyparsing>=2.3.1 in /usr/local/lib/python3.10/dist-packages (from matplotlib) (3.2.0)\n",
            "Requirement already satisfied: scipy>=1.6.0 in /usr/local/lib/python3.10/dist-packages (from scikit-learn) (1.13.1)\n",
            "Requirement already satisfied: joblib>=1.2.0 in /usr/local/lib/python3.10/dist-packages (from scikit-learn) (1.4.2)\n",
            "Requirement already satisfied: threadpoolctl>=3.1.0 in /usr/local/lib/python3.10/dist-packages (from scikit-learn) (3.5.0)\n",
            "Requirement already satisfied: six>=1.5 in /usr/local/lib/python3.10/dist-packages (from python-dateutil>=2.8.2->pandas) (1.17.0)\n"
          ]
        }
      ]
    },
    {
      "cell_type": "markdown",
      "source": [
        "**2. Tải dữ liệu**\n",
        "Load dữ liệu có sẵn trong thư viện Scikit Learn"
      ],
      "metadata": {
        "id": "yXwmYSLtjMiZ"
      }
    },
    {
      "cell_type": "code",
      "source": [
        "import numpy as np\n",
        "import pandas as pd\n",
        "import matplotlib.pyplot as plt\n",
        "from sklearn.datasets import load_iris"
      ],
      "metadata": {
        "id": "2yVWHE-kmzmY"
      },
      "execution_count": 1,
      "outputs": []
    },
    {
      "cell_type": "code",
      "source": [
        "# Load Iris Data\n",
        "iris = load_iris()\n",
        "\n",
        "# Chuyển dữ liệu thành DataFrame để dễ quan sát\n",
        "iris_df = pd.DataFrame(data=iris.data, columns=iris.feature_names)\n",
        "iris_df['target'] = iris.target\n",
        "\n",
        "# Hiển thị 5 dòng dữ liệu đầu tiên\n",
        "print(iris_df.head())\n",
        "\n",
        "# Mô tả các thông tin thống kê cơ bản\n",
        "print(iris_df.describe())"
      ],
      "metadata": {
        "colab": {
          "base_uri": "https://localhost:8080/"
        },
        "id": "BBwRzH4Fm8Dn",
        "outputId": "93949e87-3fb5-412e-81d1-37bcc72a2d9b"
      },
      "execution_count": 2,
      "outputs": [
        {
          "output_type": "stream",
          "name": "stdout",
          "text": [
            "   sepal length (cm)  sepal width (cm)  petal length (cm)  petal width (cm)  \\\n",
            "0                5.1               3.5                1.4               0.2   \n",
            "1                4.9               3.0                1.4               0.2   \n",
            "2                4.7               3.2                1.3               0.2   \n",
            "3                4.6               3.1                1.5               0.2   \n",
            "4                5.0               3.6                1.4               0.2   \n",
            "\n",
            "   target  \n",
            "0       0  \n",
            "1       0  \n",
            "2       0  \n",
            "3       0  \n",
            "4       0  \n",
            "       sepal length (cm)  sepal width (cm)  petal length (cm)  \\\n",
            "count         150.000000        150.000000         150.000000   \n",
            "mean            5.843333          3.057333           3.758000   \n",
            "std             0.828066          0.435866           1.765298   \n",
            "min             4.300000          2.000000           1.000000   \n",
            "25%             5.100000          2.800000           1.600000   \n",
            "50%             5.800000          3.000000           4.350000   \n",
            "75%             6.400000          3.300000           5.100000   \n",
            "max             7.900000          4.400000           6.900000   \n",
            "\n",
            "       petal width (cm)      target  \n",
            "count        150.000000  150.000000  \n",
            "mean           1.199333    1.000000  \n",
            "std            0.762238    0.819232  \n",
            "min            0.100000    0.000000  \n",
            "25%            0.300000    0.000000  \n",
            "50%            1.300000    1.000000  \n",
            "75%            1.800000    2.000000  \n",
            "max            2.500000    2.000000  \n"
          ]
        }
      ]
    },
    {
      "cell_type": "markdown",
      "source": [
        "Với:\n",
        "\n",
        "*   load_iris(): tải dữ liệu Iris, chứa các thông tin về hoa như chiều dài và chiều rộng của cánh hoa\n",
        "*   DataFrame: Chuyển dữ liệu thành bảng để dễ đọc và thao tác\n",
        "*   head() và describe(): hiển thị mẫu dữ liệu và mô tả thống kê\n",
        "\n"
      ],
      "metadata": {
        "id": "UhDufZKgt3D5"
      }
    },
    {
      "cell_type": "markdown",
      "source": [
        "**3. Chia dữ liệu và chuẩn hóa**"
      ],
      "metadata": {
        "id": "i7Ca7Y1TxtvZ"
      }
    },
    {
      "cell_type": "code",
      "source": [
        "from sklearn.model_selection import train_test_split\n",
        "from sklearn.preprocessing import StandardScaler\n",
        "\n",
        "# Chia dữ liệu thành X (features) và y (target)\n",
        "X = iris.data  # Các đặc trưng\n",
        "y = iris.target  # Nhãn (các loại hoa)\n",
        "\n",
        "# Chia dữ liệu thành tập huấn luyện (70%) và kiểm tra (30%)\n",
        "X_train, X_test, y_train, y_test = train_test_split(X, y, test_size=0.3, random_state=42)\n",
        "\n",
        "# Chuẩn hóa dữ liệu\n",
        "scaler = StandardScaler()\n",
        "X_train = scaler.fit_transform(X_train)\n",
        "X_test = scaler.transform(X_test)\n",
        "\n",
        "# In kích thước dữ liệu sau khi chia\n",
        "print(f\"Training data size: {X_train.shape}\")\n",
        "print(f\"Test data size: {X_test.shape}\")"
      ],
      "metadata": {
        "id": "N26TEFENxxrA",
        "colab": {
          "base_uri": "https://localhost:8080/"
        },
        "outputId": "d8a03040-784e-451a-c78b-580d60cd5f3a"
      },
      "execution_count": 3,
      "outputs": [
        {
          "output_type": "stream",
          "name": "stdout",
          "text": [
            "Training data size: (105, 4)\n",
            "Test data size: (45, 4)\n"
          ]
        }
      ]
    },
    {
      "cell_type": "markdown",
      "source": [
        "train_test_split: chia dữ liệu thành 2 phần: 70% để huấn luyện, 30% để kiểm tra\n",
        "StandardScaler: chuẩn hóa dữ liệu để đưa tất cả về cùng một thang đo, giúp KNN hoạt động hiệu quả hơn"
      ],
      "metadata": {
        "id": "kyU-eaiWmn0i"
      }
    },
    {
      "cell_type": "markdown",
      "source": [
        "**4. Huấn luyện mô hình KNN**"
      ],
      "metadata": {
        "id": "bxJKOOx7nGFy"
      }
    },
    {
      "cell_type": "code",
      "source": [
        "from sklearn.neighbors import KNeighborsClassifier\n",
        "\n",
        "# Khởi tạo mô hình với k = 3\n",
        "knn = KNeighborsClassifier(n_neighbors=3)\n",
        "\n",
        "# Huấn luyện mô hình với dữ liệu huấn luyện\n",
        "knn.fit(X_train, y_train)\n",
        "\n",
        "# Dự đoán trên tập kiểm tra\n",
        "y_pred = knn.predict(X_test)  # Sử dụng hàm predict\n",
        "\n",
        "# In ra màn hình kết quả dự đoán\n",
        "print(f\"Predictions: {y_pred}\")"
      ],
      "metadata": {
        "colab": {
          "base_uri": "https://localhost:8080/"
        },
        "id": "vcll_HchnUmy",
        "outputId": "3d813abc-8019-4428-bf79-54d35ba125fe"
      },
      "execution_count": 4,
      "outputs": [
        {
          "output_type": "stream",
          "name": "stdout",
          "text": [
            "Predictions: [1 0 2 1 1 0 1 2 1 1 2 0 0 0 0 1 2 1 1 2 0 2 0 2 2 2 2 2 0 0 0 0 1 0 0 2 1\n",
            " 0 0 0 2 1 1 0 0]\n"
          ]
        }
      ]
    },
    {
      "cell_type": "markdown",
      "source": [
        "*   KNeighborsClassifier: khởi tạo thuật toán KNN. Tham số n_neighbors = 3 nghĩa là xét 3 neighbors gần nhất\n",
        "*   fit: huấn luyện mô hình dựa trên tập huấn luyện\n",
        "*   predict: dự đoán nhãn của tập kiểm tra\n",
        "\n",
        "\n",
        "\n"
      ],
      "metadata": {
        "id": "walN9TJCotcy"
      }
    },
    {
      "cell_type": "markdown",
      "source": [
        "5. Đánh giá mô hình"
      ],
      "metadata": {
        "id": "x_41UwCTrJbz"
      }
    },
    {
      "cell_type": "code",
      "source": [
        "from sklearn.metrics import classification_report, confusion_matrix, accuracy_score\n",
        "\n",
        "# Đánh giá hiệu suất\n",
        "print(\"Confusion Matrix:\")  # Ma trận nhầm lẫn\n",
        "print(confusion_matrix(y_test, y_pred))\n",
        "\n",
        "print(\"\\nClassification Report:\")  # Báo cáo phân loại\n",
        "print(classification_report(y_test, y_pred))\n",
        "\n",
        "print(\"\\nAccuracy Score:\")  # Độ chính xác\n",
        "print(accuracy_score(y_test, y_pred))"
      ],
      "metadata": {
        "colab": {
          "base_uri": "https://localhost:8080/"
        },
        "id": "BHcR453uriCK",
        "outputId": "7542e678-3b2b-4620-830d-9b12859ff5d7"
      },
      "execution_count": 5,
      "outputs": [
        {
          "output_type": "stream",
          "name": "stdout",
          "text": [
            "Confusion Matrix:\n",
            "[[19  0  0]\n",
            " [ 0 13  0]\n",
            " [ 0  0 13]]\n",
            "\n",
            "Classification Report:\n",
            "              precision    recall  f1-score   support\n",
            "\n",
            "           0       1.00      1.00      1.00        19\n",
            "           1       1.00      1.00      1.00        13\n",
            "           2       1.00      1.00      1.00        13\n",
            "\n",
            "    accuracy                           1.00        45\n",
            "   macro avg       1.00      1.00      1.00        45\n",
            "weighted avg       1.00      1.00      1.00        45\n",
            "\n",
            "\n",
            "Accuracy Score:\n",
            "1.0\n"
          ]
        }
      ]
    },
    {
      "cell_type": "markdown",
      "source": [
        "*   confusion_matrix: ma trận nhầm lẫn, cho biết số lần dự đoán đúng và sai với từng lớp\n",
        "*   classification_report: báo cáo chi tiết gồm precision, recall, và F1-score cho từng lớp\n",
        "*   accuracy_score: tính độ chính xác tổng quát của mô hình\n",
        "\n"
      ],
      "metadata": {
        "id": "ehv3fJlH118l"
      }
    },
    {
      "cell_type": "markdown",
      "source": [
        "6. Hiển thị dữ liệu"
      ],
      "metadata": {
        "id": "NGT0ngow2mWm"
      }
    },
    {
      "cell_type": "code",
      "source": [
        "# Vẽ biểu đồ minh họa(ví dụ cho 2 đặc trưng đầu tiên của dữ liệu)\n",
        "\n",
        "plt.figure(figsize=(8, 6))\n",
        "plt.scatter(X_test[:, 0], X_test[:, 1], c=y_pred, cmap='viridis', label='Predicted')\n",
        "plt.title(\"Visualization of Test Predictions\")\n",
        "plt.xlabel(\"Feature 1 (Normalized)\")\n",
        "plt.ylabel(\"Feature 2 (Normalized)\")\n",
        "plt.colorbar(label='Class')\n",
        "plt.legend()\n",
        "plt.show()"
      ],
      "metadata": {
        "colab": {
          "base_uri": "https://localhost:8080/",
          "height": 564
        },
        "id": "HEX5yS1a2oml",
        "outputId": "f2b274f7-e020-4ec5-b18a-07fa5fc13484"
      },
      "execution_count": 6,
      "outputs": [
        {
          "output_type": "display_data",
          "data": {
            "text/plain": [
              "<Figure size 800x600 with 2 Axes>"
            ],
            "image/png": "[encoded data removed]"
          },
          "metadata": {}
        }
      ]
    }
  ]
}