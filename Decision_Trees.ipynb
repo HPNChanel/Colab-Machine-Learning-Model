{
  "nbformat": 4,
  "nbformat_minor": 0,
  "metadata": {
    "colab": {
      "provenance": [],
      "authorship_tag": "ABX9TyOzErj9ibPJ1E5e7jeMLHJw",
      "include_colab_link": true
    },
    "kernelspec": {
      "name": "python3",
      "display_name": "Python 3"
    },
    "language_info": {
      "name": "python"
    }
  },
  "cells": [
    {
      "cell_type": "markdown",
      "metadata": {
        "id": "view-in-github",
        "colab_type": "text"
      },
      "source": [
        "<a href=\"https://colab.research.google.com/github/HPNChanel/Colab-Machine-Learning-Model/blob/main/Decision_Trees.ipynb\" target=\"_parent\"><img src=\"https://colab.research.google.com/assets/colab-badge.svg\" alt=\"Open In Colab\"/></a>"
      ]
    },
    {
      "cell_type": "markdown",
      "source": [
        "Mục tiêu: Sử dụng Decision Tree để phân loại với bộ dữ liệu Iris"
      ],
      "metadata": {
        "id": "4MQ3dKJgIhpF"
      }
    },
    {
      "cell_type": "markdown",
      "source": [
        "1. Cài đặt và chuẩn bị môi trường"
      ],
      "metadata": {
        "id": "t7Ofwim0IuXr"
      }
    },
    {
      "cell_type": "code",
      "source": [
        "!pip install scikit-learn matplotlib graphviz"
      ],
      "metadata": {
        "colab": {
          "base_uri": "https://localhost:8080/"
        },
        "id": "Hs2uKOMpIzt7",
        "outputId": "e02e33b9-4dc9-41ad-f047-6317dda6353a"
      },
      "execution_count": null,
      "outputs": [
        {
          "output_type": "stream",
          "name": "stdout",
          "text": [
            "Requirement already satisfied: scikit-learn in /usr/local/lib/python3.10/dist-packages (1.6.0)\n",
            "Requirement already satisfied: matplotlib in /usr/local/lib/python3.10/dist-packages (3.8.0)\n",
            "Requirement already satisfied: graphviz in /usr/local/lib/python3.10/dist-packages (0.20.3)\n",
            "Requirement already satisfied: numpy>=1.19.5 in /usr/local/lib/python3.10/dist-packages (from scikit-learn) (1.26.4)\n",
            "Requirement already satisfied: scipy>=1.6.0 in /usr/local/lib/python3.10/dist-packages (from scikit-learn) (1.13.1)\n",
            "Requirement already satisfied: joblib>=1.2.0 in /usr/local/lib/python3.10/dist-packages (from scikit-learn) (1.4.2)\n",
            "Requirement already satisfied: threadpoolctl>=3.1.0 in /usr/local/lib/python3.10/dist-packages (from scikit-learn) (3.5.0)\n",
            "Requirement already satisfied: contourpy>=1.0.1 in /usr/local/lib/python3.10/dist-packages (from matplotlib) (1.3.1)\n",
            "Requirement already satisfied: cycler>=0.10 in /usr/local/lib/python3.10/dist-packages (from matplotlib) (0.12.1)\n",
            "Requirement already satisfied: fonttools>=4.22.0 in /usr/local/lib/python3.10/dist-packages (from matplotlib) (4.55.3)\n",
            "Requirement already satisfied: kiwisolver>=1.0.1 in /usr/local/lib/python3.10/dist-packages (from matplotlib) (1.4.7)\n",
            "Requirement already satisfied: packaging>=20.0 in /usr/local/lib/python3.10/dist-packages (from matplotlib) (24.2)\n",
            "Requirement already satisfied: pillow>=6.2.0 in /usr/local/lib/python3.10/dist-packages (from matplotlib) (11.0.0)\n",
            "Requirement already satisfied: pyparsing>=2.3.1 in /usr/local/lib/python3.10/dist-packages (from matplotlib) (3.2.0)\n",
            "Requirement already satisfied: python-dateutil>=2.7 in /usr/local/lib/python3.10/dist-packages (from matplotlib) (2.8.2)\n",
            "Requirement already satisfied: six>=1.5 in /usr/local/lib/python3.10/dist-packages (from python-dateutil>=2.7->matplotlib) (1.17.0)\n"
          ]
        }
      ]
    },
    {
      "cell_type": "markdown",
      "source": [
        "2. Tải và kiểm tra dữ liệu\n",
        "Bộ dữ liệu Iris được tích hợp trong thư viện scikit-learn"
      ],
      "metadata": {
        "id": "NmSwEZugJayM"
      }
    },
    {
      "cell_type": "code",
      "source": [
        "# Import các thư viện cần thiết\n",
        "from sklearn.datasets import load_iris\n",
        "from sklearn.model_selection import train_test_split\n",
        "from sklearn.tree import DecisionTreeClassifier\n",
        "from sklearn.metrics import accuracy_score, classification_report\n",
        "from sklearn.tree import export_graphviz\n",
        "import graphviz\n",
        "import joblib\n",
        "import pandas as pd"
      ],
      "metadata": {
        "id": "4e4ZD8HXJmwT"
      },
      "execution_count": 2,
      "outputs": []
    },
    {
      "cell_type": "code",
      "source": [
        "# Tải bộ dữ liệu Iris\n",
        "iris = load_iris()\n",
        "\n",
        "# Chuyển dữ liệu thành DataFrame để thao tác\n",
        "df = pd.DataFrame(data=iris.data, columns=iris.feature_names)\n",
        "df['species'] = iris.target\n",
        "df['species'] = df['species'].map({0: 'setosa', 1: 'versicolor', 2: 'virginica'})\n",
        "\n",
        "# Hiển thị thông tin cơ bản\n",
        "print(df.head())\n",
        "print(\"\\nData Information:\")\n",
        "print(df.info())"
      ],
      "metadata": {
        "colab": {
          "base_uri": "https://localhost:8080/"
        },
        "id": "i4oZVpd_KVZN",
        "outputId": "baabd4e6-ffe4-48ce-a86e-42ce7a560eb6"
      },
      "execution_count": 3,
      "outputs": [
        {
          "output_type": "stream",
          "name": "stdout",
          "text": [
            "   sepal length (cm)  sepal width (cm)  petal length (cm)  petal width (cm)  \\\n",
            "0                5.1               3.5                1.4               0.2   \n",
            "1                4.9               3.0                1.4               0.2   \n",
            "2                4.7               3.2                1.3               0.2   \n",
            "3                4.6               3.1                1.5               0.2   \n",
            "4                5.0               3.6                1.4               0.2   \n",
            "\n",
            "  species  \n",
            "0  setosa  \n",
            "1  setosa  \n",
            "2  setosa  \n",
            "3  setosa  \n",
            "4  setosa  \n",
            "\n",
            "Data Information:\n",
            "<class 'pandas.core.frame.DataFrame'>\n",
            "RangeIndex: 150 entries, 0 to 149\n",
            "Data columns (total 5 columns):\n",
            " #   Column             Non-Null Count  Dtype  \n",
            "---  ------             --------------  -----  \n",
            " 0   sepal length (cm)  150 non-null    float64\n",
            " 1   sepal width (cm)   150 non-null    float64\n",
            " 2   petal length (cm)  150 non-null    float64\n",
            " 3   petal width (cm)   150 non-null    float64\n",
            " 4   species            150 non-null    object \n",
            "dtypes: float64(4), object(1)\n",
            "memory usage: 6.0+ KB\n",
            "None\n"
          ]
        }
      ]
    },
    {
      "cell_type": "markdown",
      "source": [
        "3. Chia dữ liệu và xây dựng mô hình\n",
        "Chia bộ dữ liệu thành tập huấn luyện và kiểm tra, sau đó xây dựng Decision Tree"
      ],
      "metadata": {
        "id": "tqt3y1-FNIlc"
      }
    },
    {
      "cell_type": "code",
      "source": [
        "# Chia dữ liệu thành X (features) và y (labels)\n",
        "X = iris.data\n",
        "y = iris.target\n",
        "\n",
        "# Chia tập dữ liệu(80% huấn luyện, 20% kiểm tra)\n",
        "X_train, X_test, y_train, y_test = train_test_split(X, y, test_size=0.2, random_state=42)\n",
        "\n",
        "# Khởi tạo và huấn luyện Decision Tree\n",
        "model = DecisionTreeClassifier(criterion='entropy', max_depth=3, random_state=42)\n",
        "model.fit(X_train, y_train)\n",
        "\n",
        "# Dự đoán trên tập kiểm tra\n",
        "y_pred = model.predict(X_test)\n",
        "\n",
        "# Đánh giá hiệu suất\n",
        "print(\"Accuracy:\", accuracy_score(y_test, y_pred))\n",
        "print(\"\\nClassification Report:\")\n",
        "print(classification_report(y_test, y_pred))"
      ],
      "metadata": {
        "colab": {
          "base_uri": "https://localhost:8080/"
        },
        "id": "NpzDwNztNXG8",
        "outputId": "34ca907e-87d5-4bcd-980e-ee90079df310"
      },
      "execution_count": 4,
      "outputs": [
        {
          "output_type": "stream",
          "name": "stdout",
          "text": [
            "Accuracy: 1.0\n",
            "\n",
            "Classification Report:\n",
            "              precision    recall  f1-score   support\n",
            "\n",
            "           0       1.00      1.00      1.00        10\n",
            "           1       1.00      1.00      1.00         9\n",
            "           2       1.00      1.00      1.00        11\n",
            "\n",
            "    accuracy                           1.00        30\n",
            "   macro avg       1.00      1.00      1.00        30\n",
            "weighted avg       1.00      1.00      1.00        30\n",
            "\n"
          ]
        }
      ]
    },
    {
      "cell_type": "markdown",
      "source": [
        "4. Hiển thị cây quyết định"
      ],
      "metadata": {
        "id": "eTgxgLf1-hb_"
      }
    },
    {
      "cell_type": "code",
      "source": [
        "# Xuất cây quyết định dưới dạng biểu đồ\n",
        "dot_data = export_graphviz(\n",
        "    model,\n",
        "    out_file=None,\n",
        "    feature_names=iris.feature_names,\n",
        "    class_names=iris.target_names,\n",
        "    filled=True,\n",
        "    rounded=True,\n",
        "    special_characters=True\n",
        ")\n",
        "\n",
        "# Hiển thị cây\n",
        "graph = graphviz.Source(dot_data)\n",
        "graph.render(\"decision_tree\")  # Tạo file pdf\n",
        "graph.view()  # Hiển thị lên Google Colab"
      ],
      "metadata": {
        "colab": {
          "base_uri": "https://localhost:8080/",
          "height": 35
        },
        "id": "XstkTH6C-n2v",
        "outputId": "ab0a9f42-c947-434f-92cc-531c928867f1"
      },
      "execution_count": 5,
      "outputs": [
        {
          "output_type": "execute_result",
          "data": {
            "text/plain": [
              "'decision_tree.pdf'"
            ],
            "application/vnd.google.colaboratory.intrinsic+json": {
              "type": "string"
            }
          },
          "metadata": {},
          "execution_count": 5
        }
      ]
    },
    {
      "cell_type": "markdown",
      "source": [
        "5. Tối ưu hóa mô hình"
      ],
      "metadata": {
        "id": "wBrYaqDhAMR4"
      }
    },
    {
      "cell_type": "code",
      "source": [
        "# Tối ưu hóa với độ sâu lớn hơn\n",
        "model_optimized = DecisionTreeClassifier(criterion='entropy', max_depth=5, random_state=42)\n",
        "model_optimized.fit(X_train, y_train)\n",
        "\n",
        "# Dự đoán và đánh giá lại\n",
        "y_pred_optimized = model_optimized.predict(X_test)\n",
        "print(\"Accuracy (Optimized):\", accuracy_score(y_test, y_pred_optimized))"
      ],
      "metadata": {
        "colab": {
          "base_uri": "https://localhost:8080/"
        },
        "id": "YIwL3Y4zARl_",
        "outputId": "1b85116e-7165-4446-d52c-69ed51c4250d"
      },
      "execution_count": 6,
      "outputs": [
        {
          "output_type": "stream",
          "name": "stdout",
          "text": [
            "Accuracy (Optimized): 1.0\n"
          ]
        }
      ]
    },
    {
      "cell_type": "markdown",
      "source": [
        "6. Lưu và tải mô hình (tái sử dụng mô hình)"
      ],
      "metadata": {
        "id": "UT4bEJ4CBgYI"
      }
    },
    {
      "cell_type": "code",
      "source": [
        "# Lưu mô hình\n",
        "joblib.dump(model, \"decision_tree_model.pkl\")\n",
        "\n",
        "# Tải lại mô hình\n",
        "loaded_model = joblib.load(\"decision_tree_model.pkl\")\n",
        "print(\"\\nPredict loaded model:\", loaded_model.predict(X_test[:5]))"
      ],
      "metadata": {
        "colab": {
          "base_uri": "https://localhost:8080/"
        },
        "id": "RQGJkt9xBoGH",
        "outputId": "e587ba6b-5a1e-4060-8798-508179523bfc"
      },
      "execution_count": 7,
      "outputs": [
        {
          "output_type": "stream",
          "name": "stdout",
          "text": [
            "\n",
            "Predict loaded model: [1 0 2 1 1]\n"
          ]
        }
      ]
    }
  ]
}